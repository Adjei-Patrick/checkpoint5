{
 "cells": [
  {
   "cell_type": "code",
   "execution_count": 9,
   "id": "51f2f5cf",
   "metadata": {},
   "outputs": [
    {
     "name": "stdout",
     "output_type": "stream",
     "text": [
      "<__main__.Point3D object at 0x00000034889105B0>\n"
     ]
    }
   ],
   "source": [
    "class Point3D :\n",
    "    def __init__(self, x, y, z):\n",
    "        self.x = x\n",
    "        self.y = y\n",
    "        self.z = z \n",
    "        \n",
    "my_point = Point3D(1, 2, 4)\n",
    "print(my_point)\n",
    "\n",
    "\n",
    "    "
   ]
  },
  {
   "cell_type": "code",
   "execution_count": 10,
   "id": "3d043a4a",
   "metadata": {},
   "outputs": [
    {
     "name": "stdout",
     "output_type": "stream",
     "text": [
      "<__main__.Rectangle object at 0x0000003486DD1FA0>\n"
     ]
    }
   ],
   "source": [
    "class Rectangle:\n",
    "    def __init__(self, longueur, largeur):\n",
    "        self.longueur = longueur\n",
    "        self.largueur = largeur\n",
    "    def aire(self):\n",
    "        return self.longueur * self.largueur \n",
    "    def perimetre(self):\n",
    "        return 2 * (self.longueur + self.largueur)\n",
    "my_rectangle = Rectangle(3, 4)\n",
    "print(my_rectangle)\n",
    "        \n",
    "        "
   ]
  },
  {
   "cell_type": "code",
   "execution_count": 12,
   "id": "4d982d53",
   "metadata": {},
   "outputs": [
    {
     "name": "stdout",
     "output_type": "stream",
     "text": [
      "A appartient au cercle\n"
     ]
    }
   ],
   "source": [
    "class Circle:\n",
    "    def __init__(self, centre_O, rayon_r):\n",
    "        self.centre_O = centre_O\n",
    "        self.rayon_r = rayon_r\n",
    "    def aire(self):\n",
    "        return 3.14 * self.rayon_r** 2\n",
    "    def premitre(self):\n",
    "        return 2 * 3.14 * self.rayon_r\n",
    "    def inside(sefl, x, y):\n",
    "        A = (x-4)**2 + (y-5)**2\n",
    "        if A == 9:\n",
    "            return \"A appartient au cercle\"\n",
    "        else:\n",
    "            return \"A n'appartient pas au cercle\"  \n",
    "        \n",
    "my_circle = Circle(0, 3)\n",
    "print(my_circle.inside(1, 5))\n",
    "        "
   ]
  },
  {
   "cell_type": "code",
   "execution_count": 14,
   "id": "32b62a9f",
   "metadata": {},
   "outputs": [
    {
     "name": "stdout",
     "output_type": "stream",
     "text": [
      "8000\n",
      "3000\n"
     ]
    }
   ],
   "source": [
    "class Bank:\n",
    "    def __init__(self, solde):\n",
    "        self.solde = solde\n",
    "    def depot(self, somme):\n",
    "        operation1 = self.solde + somme\n",
    "        return operation1\n",
    "    def retrait(self, soustraction):\n",
    "        operation2 = self.solde - soustraction\n",
    "        return operation2\n",
    "               \n",
    "my_bank = Bank(5000)\n",
    "print(my_bank.depot(3000))\n",
    "print(my_bank.retrait(2000))\n",
    "        "
   ]
  },
  {
   "cell_type": "code",
   "execution_count": null,
   "id": "be5fa66c",
   "metadata": {},
   "outputs": [],
   "source": []
  }
 ],
 "metadata": {
  "kernelspec": {
   "display_name": "Python 3 (ipykernel)",
   "language": "python",
   "name": "python3"
  },
  "language_info": {
   "codemirror_mode": {
    "name": "ipython",
    "version": 3
   },
   "file_extension": ".py",
   "mimetype": "text/x-python",
   "name": "python",
   "nbconvert_exporter": "python",
   "pygments_lexer": "ipython3",
   "version": "3.9.7"
  }
 },
 "nbformat": 4,
 "nbformat_minor": 5
}
